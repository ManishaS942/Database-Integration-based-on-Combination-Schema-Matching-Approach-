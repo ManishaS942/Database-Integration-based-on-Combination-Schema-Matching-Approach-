{
 "cells": [
  {
   "cell_type": "code",
   "execution_count": 1,
   "metadata": {},
   "outputs": [],
   "source": [
    "#import sys\n",
    "#!{sys.executable} -m pip install strsimpy"
   ]
  },
  {
   "cell_type": "code",
   "execution_count": 2,
   "metadata": {},
   "outputs": [
    {
     "name": "stderr",
     "output_type": "stream",
     "text": [
      "b'Skipping line 7: expected 4 fields, saw 7\\n'\n"
     ]
    }
   ],
   "source": [
    "import numpy as np\n",
    "import pandas as pd\n",
    "dp=pd.read_csv(\"hospital.csv\",error_bad_lines=False)"
   ]
  },
  {
   "cell_type": "code",
   "execution_count": 3,
   "metadata": {},
   "outputs": [
    {
     "data": {
      "text/html": [
       "<div>\n",
       "<style scoped>\n",
       "    .dataframe tbody tr th:only-of-type {\n",
       "        vertical-align: middle;\n",
       "    }\n",
       "\n",
       "    .dataframe tbody tr th {\n",
       "        vertical-align: top;\n",
       "    }\n",
       "\n",
       "    .dataframe thead th {\n",
       "        text-align: right;\n",
       "    }\n",
       "</style>\n",
       "<table border=\"1\" class=\"dataframe\">\n",
       "  <thead>\n",
       "    <tr style=\"text-align: right;\">\n",
       "      <th></th>\n",
       "      <th>Data_Source</th>\n",
       "      <th>Table_Name</th>\n",
       "      <th>Property</th>\n",
       "      <th>Datatype</th>\n",
       "    </tr>\n",
       "  </thead>\n",
       "  <tbody>\n",
       "    <tr>\n",
       "      <th>0</th>\n",
       "      <td>SIMPUS1</td>\n",
       "      <td>TBPASIEN</td>\n",
       "      <td>TanggalDaftar</td>\n",
       "      <td>Date</td>\n",
       "    </tr>\n",
       "    <tr>\n",
       "      <th>1</th>\n",
       "      <td>SIMPUS1</td>\n",
       "      <td>TBPASIEN</td>\n",
       "      <td>NoIndex</td>\n",
       "      <td>Varchar(20)</td>\n",
       "    </tr>\n",
       "    <tr>\n",
       "      <th>2</th>\n",
       "      <td>SIMPUS1</td>\n",
       "      <td>TBPASIEN</td>\n",
       "      <td>NoCM</td>\n",
       "      <td>Varchar(20)</td>\n",
       "    </tr>\n",
       "    <tr>\n",
       "      <th>3</th>\n",
       "      <td>SIMPUS1</td>\n",
       "      <td>TBPASIEN</td>\n",
       "      <td>NamaPasien</td>\n",
       "      <td>Varchar(50)</td>\n",
       "    </tr>\n",
       "    <tr>\n",
       "      <th>4</th>\n",
       "      <td>SIMPUS1</td>\n",
       "      <td>TBPASIEN</td>\n",
       "      <td>StatusKeluarga</td>\n",
       "      <td>Varchar(20)</td>\n",
       "    </tr>\n",
       "    <tr>\n",
       "      <th>5</th>\n",
       "      <td>SIMPUS1</td>\n",
       "      <td>TBPASIEN</td>\n",
       "      <td>JenisKelamin</td>\n",
       "      <td>Tinyint(2)</td>\n",
       "    </tr>\n",
       "    <tr>\n",
       "      <th>6</th>\n",
       "      <td>SIMPUS1</td>\n",
       "      <td>TBPASIEN</td>\n",
       "      <td>Agama</td>\n",
       "      <td>Varchar(8)</td>\n",
       "    </tr>\n",
       "    <tr>\n",
       "      <th>7</th>\n",
       "      <td>SIMPUS1</td>\n",
       "      <td>TBPASIEN</td>\n",
       "      <td>StatusNikah</td>\n",
       "      <td>Varchar(15)</td>\n",
       "    </tr>\n",
       "    <tr>\n",
       "      <th>8</th>\n",
       "      <td>SIMPUS1</td>\n",
       "      <td>TBPASIEN</td>\n",
       "      <td>GolonganDarah</td>\n",
       "      <td>Varchar(2)</td>\n",
       "    </tr>\n",
       "    <tr>\n",
       "      <th>9</th>\n",
       "      <td>SIMPUS1</td>\n",
       "      <td>TBPASIEN</td>\n",
       "      <td>Pendidikan</td>\n",
       "      <td>Varchar(15)</td>\n",
       "    </tr>\n",
       "    <tr>\n",
       "      <th>10</th>\n",
       "      <td>SIMPUS1</td>\n",
       "      <td>TBPASIEN</td>\n",
       "      <td>\"Pekerjaan\"</td>\n",
       "      <td>\"Varchar(15)\"</td>\n",
       "    </tr>\n",
       "    <tr>\n",
       "      <th>11</th>\n",
       "      <td>SIMPUS1</td>\n",
       "      <td>TBPASIEN</td>\n",
       "      <td>Asuransi</td>\n",
       "      <td>Varchar(20)</td>\n",
       "    </tr>\n",
       "    <tr>\n",
       "      <th>12</th>\n",
       "      <td>SIMPUS1</td>\n",
       "      <td>TBPASIEN</td>\n",
       "      <td>StatusAsuransi</td>\n",
       "      <td>Varchar(20)</td>\n",
       "    </tr>\n",
       "    <tr>\n",
       "      <th>13</th>\n",
       "      <td>SIMPUS1</td>\n",
       "      <td>TBPASIEN</td>\n",
       "      <td>NoAsuransi</td>\n",
       "      <td>\"Varchar(20)\"</td>\n",
       "    </tr>\n",
       "    <tr>\n",
       "      <th>14</th>\n",
       "      <td>SIMPUS1</td>\n",
       "      <td>TBPASIEN</td>\n",
       "      <td>Nip</td>\n",
       "      <td>Varchar(20)</td>\n",
       "    </tr>\n",
       "  </tbody>\n",
       "</table>\n",
       "</div>"
      ],
      "text/plain": [
       "   Data_Source Table_Name         Property        Datatype\n",
       "0      SIMPUS1   TBPASIEN    TanggalDaftar            Date\n",
       "1      SIMPUS1   TBPASIEN          NoIndex     Varchar(20)\n",
       "2      SIMPUS1   TBPASIEN             NoCM     Varchar(20)\n",
       "3      SIMPUS1   TBPASIEN       NamaPasien     Varchar(50)\n",
       "4      SIMPUS1   TBPASIEN   StatusKeluarga     Varchar(20)\n",
       "5      SIMPUS1   TBPASIEN     JenisKelamin      Tinyint(2)\n",
       "6      SIMPUS1   TBPASIEN            Agama      Varchar(8)\n",
       "7      SIMPUS1   TBPASIEN      StatusNikah     Varchar(15)\n",
       "8      SIMPUS1   TBPASIEN    GolonganDarah      Varchar(2)\n",
       "9      SIMPUS1   TBPASIEN       Pendidikan     Varchar(15)\n",
       "10     SIMPUS1   TBPASIEN      \"Pekerjaan\"   \"Varchar(15)\"\n",
       "11     SIMPUS1   TBPASIEN         Asuransi     Varchar(20)\n",
       "12     SIMPUS1   TBPASIEN  StatusAsuransi      Varchar(20)\n",
       "13     SIMPUS1   TBPASIEN       NoAsuransi   \"Varchar(20)\"\n",
       "14     SIMPUS1   TBPASIEN              Nip    Varchar(20) "
      ]
     },
     "execution_count": 3,
     "metadata": {},
     "output_type": "execute_result"
    }
   ],
   "source": [
    "dp.head(15)"
   ]
  },
  {
   "cell_type": "code",
   "execution_count": 48,
   "metadata": {},
   "outputs": [
    {
     "data": {
      "text/plain": [
       "'Select Kelamin from Pasien where Kelamin=2'"
      ]
     },
     "execution_count": 48,
     "metadata": {},
     "output_type": "execute_result"
    }
   ],
   "source": [
    "query=\"Select Kelamin from Pasien where Kelamin=2\"\n",
    "query"
   ]
  },
  {
   "cell_type": "code",
   "execution_count": 5,
   "metadata": {},
   "outputs": [
    {
     "name": "stdout",
     "output_type": "stream",
     "text": [
      "Attributes Accessed by Query are :  ['Kelamin ']\n",
      "Relations Accessed by Query are :  [' Pasien']\n"
     ]
    }
   ],
   "source": [
    "Attr=str(query[query.find(\"Select \"):query.find(\"from \")])\n",
    "Tables=query[query.find(\"from \"):query.find(\" where\")]\n",
    "Attr=Attr.split(\"Select \")\n",
    "Attr=Attr[1]\n",
    "Attr=Attr.split(\",\")\n",
    "Tables=Tables.split(\"from\")\n",
    "Tables=Tables[1]\n",
    "Tables=Tables.split(\",\")\n",
    "print(\"Attributes Accessed by Query are : \",Attr)\n",
    "print(\"Relations Accessed by Query are : \",Tables)"
   ]
  },
  {
   "cell_type": "code",
   "execution_count": 6,
   "metadata": {},
   "outputs": [],
   "source": [
    "T1=Tables[0]\n",
    "attr1=Attr[0]\n",
    "\n"
   ]
  },
  {
   "cell_type": "code",
   "execution_count": 7,
   "metadata": {},
   "outputs": [
    {
     "data": {
      "text/plain": [
       "['TBPASIEN',\n",
       " 'TBDIAGNOSA PASIEN',\n",
       " 'TBDIAGNOSA',\n",
       " 'PASIEN',\n",
       " 'PEMERIKSAAN',\n",
       " 'TABEL_PENYAKIT']"
      ]
     },
     "execution_count": 7,
     "metadata": {},
     "output_type": "execute_result"
    }
   ],
   "source": [
    "sp=dp[\"Table_Name\"]\n",
    "sp=sp.drop_duplicates()\n",
    "cp=sp.values.tolist()\n",
    "cp"
   ]
  },
  {
   "cell_type": "code",
   "execution_count": 25,
   "metadata": {},
   "outputs": [
    {
     "name": "stdout",
     "output_type": "stream",
     "text": [
      "Relation  Pasien  in the given query matches with Schema:\n",
      "   Data_Source Table_Name\n",
      "5      SIMPUS1   TBPASIEN\n",
      "29     SIMPUS2     PASIEN\n",
      "{'PASIEN': 1.0, 'TBPASIEN': 0.5}\n"
     ]
    }
   ],
   "source": [
    "import ngram\n",
    "a=\"Pasien\"\n",
    "a=a.lower()\n",
    "def lower(s):\n",
    "     return s.lower()\n",
    "k = ngram.NGram(cp,key=lower)\n",
    "Table_matching=k.search(a,threshold=0.4)\n",
    "T_match={Table_matching[i][0]:Table_matching[i][1] for i in range(len(Table_matching)) for j in range(len(Table_matching))}\n",
    "abc=dp.loc[dp['Table_Name'].isin(list(T_match.keys())), :]\n",
    "abc=abc[[\"Data_Source\",\"Table_Name\"]]\n",
    "abc=abc.drop_duplicates()\n",
    "scehma=dp.values.tolist()\n",
    "print(\"Relation\",T1,\" in the given query matches with Schema:\")\n",
    "print(abc)\n",
    "print(T_match)"
   ]
  },
  {
   "cell_type": "code",
   "execution_count": 9,
   "metadata": {},
   "outputs": [
    {
     "name": "stderr",
     "output_type": "stream",
     "text": [
      "b'Skipping line 7: expected 4 fields, saw 7\\n'\n"
     ]
    },
    {
     "data": {
      "text/html": [
       "<div>\n",
       "<style scoped>\n",
       "    .dataframe tbody tr th:only-of-type {\n",
       "        vertical-align: middle;\n",
       "    }\n",
       "\n",
       "    .dataframe tbody tr th {\n",
       "        vertical-align: top;\n",
       "    }\n",
       "\n",
       "    .dataframe thead th {\n",
       "        text-align: right;\n",
       "    }\n",
       "</style>\n",
       "<table border=\"1\" class=\"dataframe\">\n",
       "  <thead>\n",
       "    <tr style=\"text-align: right;\">\n",
       "      <th></th>\n",
       "      <th>Data_Source</th>\n",
       "      <th>Table_Name</th>\n",
       "      <th>Property</th>\n",
       "      <th>Datatype</th>\n",
       "    </tr>\n",
       "  </thead>\n",
       "  <tbody>\n",
       "    <tr>\n",
       "      <th>0</th>\n",
       "      <td>SIMPUS1</td>\n",
       "      <td>TBPASIEN</td>\n",
       "      <td>TanggalDaftar</td>\n",
       "      <td>Date</td>\n",
       "    </tr>\n",
       "    <tr>\n",
       "      <th>1</th>\n",
       "      <td>SIMPUS1</td>\n",
       "      <td>TBPASIEN</td>\n",
       "      <td>NoIndex</td>\n",
       "      <td>Varchar(20)</td>\n",
       "    </tr>\n",
       "    <tr>\n",
       "      <th>2</th>\n",
       "      <td>SIMPUS1</td>\n",
       "      <td>TBPASIEN</td>\n",
       "      <td>NoCM</td>\n",
       "      <td>Varchar(20)</td>\n",
       "    </tr>\n",
       "    <tr>\n",
       "      <th>3</th>\n",
       "      <td>SIMPUS1</td>\n",
       "      <td>TBPASIEN</td>\n",
       "      <td>NamaPasien</td>\n",
       "      <td>Varchar(50)</td>\n",
       "    </tr>\n",
       "    <tr>\n",
       "      <th>4</th>\n",
       "      <td>SIMPUS1</td>\n",
       "      <td>TBPASIEN</td>\n",
       "      <td>StatusKeluarga</td>\n",
       "      <td>Varchar(20)</td>\n",
       "    </tr>\n",
       "  </tbody>\n",
       "</table>\n",
       "</div>"
      ],
      "text/plain": [
       "  Data_Source Table_Name        Property     Datatype\n",
       "0     SIMPUS1   TBPASIEN   TanggalDaftar         Date\n",
       "1     SIMPUS1   TBPASIEN         NoIndex  Varchar(20)\n",
       "2     SIMPUS1   TBPASIEN            NoCM  Varchar(20)\n",
       "3     SIMPUS1   TBPASIEN      NamaPasien  Varchar(50)\n",
       "4     SIMPUS1   TBPASIEN  StatusKeluarga  Varchar(20)"
      ]
     },
     "execution_count": 9,
     "metadata": {},
     "output_type": "execute_result"
    }
   ],
   "source": [
    "dp=pd.read_csv(\"hospital.csv\",error_bad_lines=False)\n",
    "dp.head()"
   ]
  },
  {
   "cell_type": "code",
   "execution_count": 10,
   "metadata": {},
   "outputs": [
    {
     "data": {
      "text/plain": [
       "['TanggalDaftar',\n",
       " 'NoIndex',\n",
       " 'NoCM',\n",
       " 'NamaPasien',\n",
       " 'StatusKeluarga',\n",
       " 'JenisKelamin',\n",
       " 'Agama',\n",
       " 'StatusNikah',\n",
       " 'GolonganDarah',\n",
       " 'Pendidikan',\n",
       " ' \"Pekerjaan\"',\n",
       " 'Asuransi',\n",
       " 'StatusAsuransi ',\n",
       " 'NoAsuransi',\n",
       " 'Nip',\n",
       " 'TanggalDiagnosa ',\n",
       " 'NoCM',\n",
       " 'NoRegistrasi',\n",
       " 'KodeDiagnosa',\n",
       " 'Kasus',\n",
       " 'KodeDiagnosa',\n",
       " ' \"NamaDianosa\"',\n",
       " 'KodeKelompok',\n",
       " 'KelompokDiagnosa',\n",
       " 'Golongan',\n",
       " 'nomorkartu ',\n",
       " 'tanggaldaftar',\n",
       " 'namapasien',\n",
       " 'id_kategori',\n",
       " 'jeniskelamin',\n",
       " ' \"tanggallahir\"',\n",
       " 'umur',\n",
       " 'alamat ',\n",
       " 'kota',\n",
       " 'telepon',\n",
       " 'agama',\n",
       " 'pekerjaan',\n",
       " 'informasi',\n",
       " 'goldarah',\n",
       " 'id_kelurahan',\n",
       " ' \"id_wilayahkerja\"',\n",
       " ' \"nikpasien\"',\n",
       " 'id_pemeriksaan',\n",
       " 'nomorkartu',\n",
       " ' \"tanggal_periksa\"',\n",
       " ' \"diagnosa\" ',\n",
       " 'anamnesa ',\n",
       " ' \"alergi\" ',\n",
       " 'sistol ',\n",
       " 'diastol',\n",
       " ' \"pemeriksaanfisik\"',\n",
       " 'nomorresep',\n",
       " 'diagnosalainnya',\n",
       " 'id_dokter',\n",
       " 'umur',\n",
       " 'suhu',\n",
       " 'beratbadan',\n",
       " ' \"tinggibadan\"',\n",
       " 'terapi ',\n",
       " 'resep',\n",
       " 'kasus',\n",
       " ' \"jumlahnafas\"',\n",
       " 'id_penyakit ',\n",
       " 'penyakit ',\n",
       " 'id_kategoripenyakit2']"
      ]
     },
     "execution_count": 10,
     "metadata": {},
     "output_type": "execute_result"
    }
   ],
   "source": [
    "pr=dp[\"Property\"]\n",
    "pr.head()\n",
    "property=pr.values.tolist()\n",
    "property"
   ]
  },
  {
   "cell_type": "code",
   "execution_count": 27,
   "metadata": {},
   "outputs": [
    {
     "name": "stdout",
     "output_type": "stream",
     "text": [
      "Attribute Kelamin   in the given query matches with Schema:\n",
      "   Data_Source Table_Name      Property\n",
      "5      SIMPUS1   TBPASIEN  JenisKelamin\n",
      "29     SIMPUS2     PASIEN  jeniskelamin\n",
      "{'JenisKelamin': 0.4375, 'jeniskelamin': 0.4375}\n"
     ]
    }
   ],
   "source": [
    "b=\"Kelamin\"\n",
    "b=b.lower()\n",
    "def lower(s):\n",
    "     return s.lower()\n",
    "k = ngram.NGram(property,key=lower)\n",
    "Property_matching=k.search(b,threshold=0.4)\n",
    "A_match={Property_matching[i][0]:Property_matching[i][1] for i in range(len(Property_matching)) for j in range(len(Property_matching))}\n",
    "abc=dp.loc[dp['Property'].isin(list(A_match.keys())), :]\n",
    "abc=abc[[\"Data_Source\",\"Table_Name\",\"Property\"]]\n",
    "abc=abc.drop_duplicates()\n",
    "scehma=dp.values.tolist()\n",
    "print(\"Attribute\",attr1,\" in the given query matches with Schema:\")\n",
    "print(abc)\n",
    "print(A_match)\n"
   ]
  },
  {
   "cell_type": "code",
   "execution_count": 28,
   "metadata": {},
   "outputs": [
    {
     "name": "stdout",
     "output_type": "stream",
     "text": [
      "['TBPASIEN', 'TBDIAGNOSA PASIEN', 'TBDIAGNOSA', 'PASIEN', 'PEMERIKSAAN', 'TABEL_PENYAKIT']\n"
     ]
    }
   ],
   "source": [
    "print(cp)"
   ]
  },
  {
   "cell_type": "markdown",
   "metadata": {},
   "source": [
    "EDIT Distance"
   ]
  },
  {
   "cell_type": "code",
   "execution_count": 29,
   "metadata": {},
   "outputs": [
    {
     "name": "stdout",
     "output_type": "stream",
     "text": [
      "['tbpasien', 'tbdiagnosa pasien', 'tbdiagnosa', 'pasien', 'pemeriksaan', 'tabel_penyakit']\n"
     ]
    }
   ],
   "source": [
    "out = [x.lower() for x in cp]\n",
    "print(out)"
   ]
  },
  {
   "cell_type": "code",
   "execution_count": 30,
   "metadata": {},
   "outputs": [
    {
     "name": "stdout",
     "output_type": "stream",
     "text": [
      "Given Relation:  Pasien TBPASIEN , Edit Distance: 2\n",
      "Given Relation:  Pasien TBDIAGNOSA PASIEN , Edit Distance: 11\n",
      "Given Relation:  Pasien TBDIAGNOSA , Edit Distance: 8\n",
      "Given Relation:  Pasien PASIEN , Edit Distance: 0.0\n",
      "Given Relation:  Pasien PEMERIKSAAN , Edit Distance: 8\n",
      "Given Relation:  Pasien TABEL_PENYAKIT , Edit Distance: 11\n",
      "[2, 11, 8, 0.0, 8, 11]\n"
     ]
    }
   ],
   "source": [
    "from strsimpy.levenshtein import Levenshtein\n",
    "from collections import defaultdict\n",
    "levenshtein = Levenshtein()\n",
    "Distance=[]\n",
    "for i in range(len(out)):\n",
    "    print(\"Given Relation:\",T1,cp[i],\", Edit Distance:\",levenshtein.distance(a,out[i]))\n",
    "    Distance.append(levenshtein.distance(a,out[i]))\n",
    "print(Distance)\n",
    " "
   ]
  },
  {
   "cell_type": "code",
   "execution_count": 31,
   "metadata": {},
   "outputs": [
    {
     "name": "stdout",
     "output_type": "stream",
     "text": [
      "{'TBPASIEN': 2, 'PASIEN': 0.0}\n"
     ]
    }
   ],
   "source": [
    "res = {cp[i]: Distance[i] for i in range(len(cp)) if Distance[i]<=4}\n",
    "print(res) "
   ]
  },
  {
   "cell_type": "code",
   "execution_count": 45,
   "metadata": {},
   "outputs": [
    {
     "name": "stdout",
     "output_type": "stream",
     "text": [
      "{'TBPASIEN': 0.75, 'TBDIAGNOSA PASIEN': 0.35294117647058826, 'TBDIAGNOSA': 0.2, 'PASIEN': 1.0, 'PEMERIKSAAN': 0.2727272727272727, 'TABEL_PENYAKIT': 0.21428571428571427}\n"
     ]
    }
   ],
   "source": [
    "Sim_Dist=[]\n",
    "for i in range(len(cp)):\n",
    "    Sim_Dist.append((max(len(cp[i]),len(a))-Distance[i])/max(len(cp[i]),len(a)))\n",
    "T_match={cp[i]:Sim_Dist[i] for i in range(len(cp))}\n",
    "print(T_match)\n",
    "    "
   ]
  },
  {
   "cell_type": "code",
   "execution_count": 46,
   "metadata": {},
   "outputs": [
    {
     "name": "stdout",
     "output_type": "stream",
     "text": [
      "Relation  Pasien  in the given query matches with Schema:\n",
      "   Data_Source Table_Name\n",
      "5      SIMPUS1   TBPASIEN\n",
      "29     SIMPUS2     PASIEN\n",
      "{'TBPASIEN': 0.75, 'PASIEN': 1.0}\n"
     ]
    }
   ],
   "source": [
    "Similar={cp[i]:Sim_Dist[i] for i in range(len(cp)) if Sim_Dist[i]>=0.40}\n",
    "abc=dp.loc[dp['Table_Name'].isin(list(T_match.keys())), :]\n",
    "abc=abc[[\"Data_Source\",\"Table_Name\"]]\n",
    "abc=abc.drop_duplicates()\n",
    "scehma=dp.values.tolist()\n",
    "print(\"Relation\",T1,\" in the given query matches with Schema:\")\n",
    "print(abc)\n",
    "print(Similar)"
   ]
  },
  {
   "cell_type": "code",
   "execution_count": 33,
   "metadata": {},
   "outputs": [
    {
     "data": {
      "text/plain": [
       "['tanggaldaftar',\n",
       " 'noindex',\n",
       " 'nocm',\n",
       " 'namapasien',\n",
       " 'statuskeluarga',\n",
       " 'jeniskelamin',\n",
       " 'agama',\n",
       " 'statusnikah',\n",
       " 'golongandarah',\n",
       " 'pendidikan',\n",
       " ' \"pekerjaan\"',\n",
       " 'asuransi',\n",
       " 'statusasuransi ',\n",
       " 'noasuransi',\n",
       " 'nip',\n",
       " 'tanggaldiagnosa ',\n",
       " 'nocm',\n",
       " 'noregistrasi',\n",
       " 'kodediagnosa',\n",
       " 'kasus',\n",
       " 'kodediagnosa',\n",
       " ' \"namadianosa\"',\n",
       " 'kodekelompok',\n",
       " 'kelompokdiagnosa',\n",
       " 'golongan',\n",
       " 'nomorkartu ',\n",
       " 'tanggaldaftar',\n",
       " 'namapasien',\n",
       " 'id_kategori',\n",
       " 'jeniskelamin',\n",
       " ' \"tanggallahir\"',\n",
       " 'umur',\n",
       " 'alamat ',\n",
       " 'kota',\n",
       " 'telepon',\n",
       " 'agama',\n",
       " 'pekerjaan',\n",
       " 'informasi',\n",
       " 'goldarah',\n",
       " 'id_kelurahan',\n",
       " ' \"id_wilayahkerja\"',\n",
       " ' \"nikpasien\"',\n",
       " 'id_pemeriksaan',\n",
       " 'nomorkartu',\n",
       " ' \"tanggal_periksa\"',\n",
       " ' \"diagnosa\" ',\n",
       " 'anamnesa ',\n",
       " ' \"alergi\" ',\n",
       " 'sistol ',\n",
       " 'diastol',\n",
       " ' \"pemeriksaanfisik\"',\n",
       " 'nomorresep',\n",
       " 'diagnosalainnya',\n",
       " 'id_dokter',\n",
       " 'umur',\n",
       " 'suhu',\n",
       " 'beratbadan',\n",
       " ' \"tinggibadan\"',\n",
       " 'terapi ',\n",
       " 'resep',\n",
       " 'kasus',\n",
       " ' \"jumlahnafas\"',\n",
       " 'id_penyakit ',\n",
       " 'penyakit ',\n",
       " 'id_kategoripenyakit2']"
      ]
     },
     "execution_count": 33,
     "metadata": {},
     "output_type": "execute_result"
    }
   ],
   "source": [
    "out2=[x.lower() for x in property ]\n",
    "out2"
   ]
  },
  {
   "cell_type": "code",
   "execution_count": 34,
   "metadata": {},
   "outputs": [
    {
     "name": "stdout",
     "output_type": "stream",
     "text": [
      "For given attribute kelamin edit distance with attribute of Relations tanggaldaftar is  11\n",
      "For given attribute kelamin edit distance with attribute of Relations noindex is  7\n",
      "For given attribute kelamin edit distance with attribute of Relations nocm is  6\n",
      "For given attribute kelamin edit distance with attribute of Relations namapasien is  7\n",
      "For given attribute kelamin edit distance with attribute of Relations statuskeluarga is  10\n",
      "For given attribute kelamin edit distance with attribute of Relations jeniskelamin is  5\n",
      "For given attribute kelamin edit distance with attribute of Relations agama is  5\n",
      "For given attribute kelamin edit distance with attribute of Relations statusnikah is  10\n",
      "For given attribute kelamin edit distance with attribute of Relations golongandarah is  11\n",
      "For given attribute kelamin edit distance with attribute of Relations pendidikan is  7\n",
      "For given attribute kelamin edit distance with attribute of Relations  \"pekerjaan\" is  9\n",
      "For given attribute kelamin edit distance with attribute of Relations asuransi is  7\n",
      "For given attribute kelamin edit distance with attribute of Relations statusasuransi  is  13\n",
      "For given attribute kelamin edit distance with attribute of Relations noasuransi is  9\n",
      "For given attribute kelamin edit distance with attribute of Relations nip is  6\n",
      "For given attribute kelamin edit distance with attribute of Relations tanggaldiagnosa  is  13\n",
      "For given attribute kelamin edit distance with attribute of Relations nocm is  6\n",
      "For given attribute kelamin edit distance with attribute of Relations noregistrasi is  10\n",
      "For given attribute kelamin edit distance with attribute of Relations kodediagnosa is  9\n",
      "For given attribute kelamin edit distance with attribute of Relations kasus is  5\n",
      "For given attribute kelamin edit distance with attribute of Relations kodediagnosa is  9\n",
      "For given attribute kelamin edit distance with attribute of Relations  \"namadianosa\" is  10\n",
      "For given attribute kelamin edit distance with attribute of Relations kodekelompok is  8\n",
      "For given attribute kelamin edit distance with attribute of Relations kelompokdiagnosa is  10\n",
      "For given attribute kelamin edit distance with attribute of Relations golongan is  6\n",
      "For given attribute kelamin edit distance with attribute of Relations nomorkartu  is  10\n",
      "For given attribute kelamin edit distance with attribute of Relations tanggaldaftar is  11\n",
      "For given attribute kelamin edit distance with attribute of Relations namapasien is  7\n",
      "For given attribute kelamin edit distance with attribute of Relations id_kategori is  9\n",
      "For given attribute kelamin edit distance with attribute of Relations jeniskelamin is  5\n",
      "For given attribute kelamin edit distance with attribute of Relations  \"tanggallahir\" is  12\n",
      "For given attribute kelamin edit distance with attribute of Relations umur is  6\n",
      "For given attribute kelamin edit distance with attribute of Relations alamat  is  5\n",
      "For given attribute kelamin edit distance with attribute of Relations kota is  5\n",
      "For given attribute kelamin edit distance with attribute of Relations telepon is  4\n",
      "For given attribute kelamin edit distance with attribute of Relations agama is  5\n",
      "For given attribute kelamin edit distance with attribute of Relations pekerjaan is  6\n",
      "For given attribute kelamin edit distance with attribute of Relations informasi is  8\n",
      "For given attribute kelamin edit distance with attribute of Relations goldarah is  6\n",
      "For given attribute kelamin edit distance with attribute of Relations id_kelurahan is  7\n",
      "For given attribute kelamin edit distance with attribute of Relations  \"id_wilayahkerja\" is  16\n",
      "For given attribute kelamin edit distance with attribute of Relations  \"nikpasien\" is  9\n",
      "For given attribute kelamin edit distance with attribute of Relations id_pemeriksaan is  11\n",
      "For given attribute kelamin edit distance with attribute of Relations nomorkartu is  9\n",
      "For given attribute kelamin edit distance with attribute of Relations  \"tanggal_periksa\" is  16\n",
      "For given attribute kelamin edit distance with attribute of Relations  \"diagnosa\"  is  11\n",
      "For given attribute kelamin edit distance with attribute of Relations anamnesa  is  8\n",
      "For given attribute kelamin edit distance with attribute of Relations  \"alergi\"  is  8\n",
      "For given attribute kelamin edit distance with attribute of Relations sistol  is  7\n",
      "For given attribute kelamin edit distance with attribute of Relations diastol is  7\n",
      "For given attribute kelamin edit distance with attribute of Relations  \"pemeriksaanfisik\" is  16\n",
      "For given attribute kelamin edit distance with attribute of Relations nomorresep is  10\n",
      "For given attribute kelamin edit distance with attribute of Relations diagnosalainnya is  12\n",
      "For given attribute kelamin edit distance with attribute of Relations id_dokter is  9\n",
      "For given attribute kelamin edit distance with attribute of Relations umur is  6\n",
      "For given attribute kelamin edit distance with attribute of Relations suhu is  7\n",
      "For given attribute kelamin edit distance with attribute of Relations beratbadan is  7\n",
      "For given attribute kelamin edit distance with attribute of Relations  \"tinggibadan\" is  12\n",
      "For given attribute kelamin edit distance with attribute of Relations terapi  is  4\n",
      "For given attribute kelamin edit distance with attribute of Relations resep is  6\n",
      "For given attribute kelamin edit distance with attribute of Relations kasus is  5\n",
      "For given attribute kelamin edit distance with attribute of Relations  \"jumlahnafas\" is  12\n",
      "For given attribute kelamin edit distance with attribute of Relations id_penyakit  is  9\n",
      "For given attribute kelamin edit distance with attribute of Relations penyakit  is  6\n",
      "For given attribute kelamin edit distance with attribute of Relations id_kategoripenyakit2 is  16\n",
      "[11, 7, 6, 7, 10, 5, 5, 10, 11, 7, 9, 7, 13, 9, 6, 13, 6, 10, 9, 5, 9, 10, 8, 10, 6, 10, 11, 7, 9, 5, 12, 6, 5, 5, 4, 5, 6, 8, 6, 7, 16, 9, 11, 9, 16, 11, 8, 8, 7, 7, 16, 10, 12, 9, 6, 7, 7, 12, 4, 6, 5, 12, 9, 6, 16]\n"
     ]
    }
   ],
   "source": [
    "levenshtein = Levenshtein()\n",
    "Distance2=[]\n",
    "for i in range(len(out2)):\n",
    "    print(\"For given attribute\",b, \"edit distance with attribute of Relations\",out2[i], \"is \",levenshtein.distance(b,out2[i]))\n",
    "    Distance2.append(levenshtein.distance(b,out2[i]))\n",
    "print(Distance2)"
   ]
  },
  {
   "cell_type": "code",
   "execution_count": 47,
   "metadata": {},
   "outputs": [
    {
     "name": "stdout",
     "output_type": "stream",
     "text": [
      "Attribute Kelamin   in the given query matches with Schema:\n",
      "   Data_Source Table_Name      Property\n",
      "5      SIMPUS1   TBPASIEN  JenisKelamin\n",
      "29     SIMPUS2     PASIEN  jeniskelamin\n",
      "Best Similarity Between given attribute in the query and the attributes in different data sources: {'JenisKelamin': 0.5833333333333334, 'jeniskelamin': 0.5833333333333334}\n"
     ]
    }
   ],
   "source": [
    "Sim_Dist2=[]\n",
    "for i in range(len(property)):\n",
    "    Sim_Dist2.append((max(len(property[i]),len(b))-Distance2[i])/max(len(property[i]),len(b)))\n",
    "Similar2={property[i]:Sim_Dist2[i] for i in range(len(property)) if Sim_Dist2[i]>=0.50}\n",
    "abc=dp.loc[dp['Property'].isin(list(Similar2.keys())), :]\n",
    "abc=abc[[\"Data_Source\",\"Table_Name\",\"Property\"]]\n",
    "abc=abc.drop_duplicates()\n",
    "scehma=dp.values.tolist()\n",
    "print(\"Attribute\",attr1,\" in the given query matches with Schema:\")\n",
    "print(abc)\n",
    "print(\"Best Similarity Between given attribute in the query and the attributes in different data sources:\",Similar2)"
   ]
  },
  {
   "cell_type": "code",
   "execution_count": 36,
   "metadata": {},
   "outputs": [
    {
     "name": "stderr",
     "output_type": "stream",
     "text": [
      "b'Skipping line 7: expected 4 fields, saw 7\\n'\n"
     ]
    },
    {
     "data": {
      "text/html": [
       "<div>\n",
       "<style scoped>\n",
       "    .dataframe tbody tr th:only-of-type {\n",
       "        vertical-align: middle;\n",
       "    }\n",
       "\n",
       "    .dataframe tbody tr th {\n",
       "        vertical-align: top;\n",
       "    }\n",
       "\n",
       "    .dataframe thead th {\n",
       "        text-align: right;\n",
       "    }\n",
       "</style>\n",
       "<table border=\"1\" class=\"dataframe\">\n",
       "  <thead>\n",
       "    <tr style=\"text-align: right;\">\n",
       "      <th></th>\n",
       "      <th>Data_Source</th>\n",
       "      <th>Table_Name</th>\n",
       "      <th>Property</th>\n",
       "      <th>Datatype</th>\n",
       "    </tr>\n",
       "  </thead>\n",
       "  <tbody>\n",
       "    <tr>\n",
       "      <th>0</th>\n",
       "      <td>SIMPUS1</td>\n",
       "      <td>TBPASIEN</td>\n",
       "      <td>TanggalDaftar</td>\n",
       "      <td>Date</td>\n",
       "    </tr>\n",
       "    <tr>\n",
       "      <th>1</th>\n",
       "      <td>SIMPUS1</td>\n",
       "      <td>TBPASIEN</td>\n",
       "      <td>NoIndex</td>\n",
       "      <td>Varchar(20)</td>\n",
       "    </tr>\n",
       "    <tr>\n",
       "      <th>2</th>\n",
       "      <td>SIMPUS1</td>\n",
       "      <td>TBPASIEN</td>\n",
       "      <td>NoCM</td>\n",
       "      <td>Varchar(20)</td>\n",
       "    </tr>\n",
       "    <tr>\n",
       "      <th>3</th>\n",
       "      <td>SIMPUS1</td>\n",
       "      <td>TBPASIEN</td>\n",
       "      <td>NamaPasien</td>\n",
       "      <td>Varchar(50)</td>\n",
       "    </tr>\n",
       "    <tr>\n",
       "      <th>4</th>\n",
       "      <td>SIMPUS1</td>\n",
       "      <td>TBPASIEN</td>\n",
       "      <td>StatusKeluarga</td>\n",
       "      <td>Varchar(20)</td>\n",
       "    </tr>\n",
       "  </tbody>\n",
       "</table>\n",
       "</div>"
      ],
      "text/plain": [
       "  Data_Source Table_Name        Property     Datatype\n",
       "0     SIMPUS1   TBPASIEN   TanggalDaftar         Date\n",
       "1     SIMPUS1   TBPASIEN         NoIndex  Varchar(20)\n",
       "2     SIMPUS1   TBPASIEN            NoCM  Varchar(20)\n",
       "3     SIMPUS1   TBPASIEN      NamaPasien  Varchar(50)\n",
       "4     SIMPUS1   TBPASIEN  StatusKeluarga  Varchar(20)"
      ]
     },
     "execution_count": 36,
     "metadata": {},
     "output_type": "execute_result"
    }
   ],
   "source": [
    "dp=pd.read_csv(\"hospital.csv\",error_bad_lines=False)\n",
    "dp.head()"
   ]
  },
  {
   "cell_type": "code",
   "execution_count": 37,
   "metadata": {},
   "outputs": [
    {
     "data": {
      "text/html": [
       "<div>\n",
       "<style scoped>\n",
       "    .dataframe tbody tr th:only-of-type {\n",
       "        vertical-align: middle;\n",
       "    }\n",
       "\n",
       "    .dataframe tbody tr th {\n",
       "        vertical-align: top;\n",
       "    }\n",
       "\n",
       "    .dataframe thead th {\n",
       "        text-align: right;\n",
       "    }\n",
       "</style>\n",
       "<table border=\"1\" class=\"dataframe\">\n",
       "  <thead>\n",
       "    <tr style=\"text-align: right;\">\n",
       "      <th></th>\n",
       "      <th>Data_Source</th>\n",
       "      <th>Table_Name</th>\n",
       "      <th>Property</th>\n",
       "      <th>Datatype</th>\n",
       "    </tr>\n",
       "  </thead>\n",
       "  <tbody>\n",
       "    <tr>\n",
       "      <th>5</th>\n",
       "      <td>SIMPUS1</td>\n",
       "      <td>TBPASIEN</td>\n",
       "      <td>JenisKelamin</td>\n",
       "      <td>Tinyint(2)</td>\n",
       "    </tr>\n",
       "    <tr>\n",
       "      <th>29</th>\n",
       "      <td>SIMPUS2</td>\n",
       "      <td>PASIEN</td>\n",
       "      <td>jeniskelamin</td>\n",
       "      <td>Tinyint(1)</td>\n",
       "    </tr>\n",
       "  </tbody>\n",
       "</table>\n",
       "</div>"
      ],
      "text/plain": [
       "   Data_Source Table_Name      Property    Datatype\n",
       "5      SIMPUS1   TBPASIEN  JenisKelamin  Tinyint(2)\n",
       "29     SIMPUS2     PASIEN  jeniskelamin  Tinyint(1)"
      ]
     },
     "execution_count": 37,
     "metadata": {},
     "output_type": "execute_result"
    }
   ],
   "source": [
    "dp=dp.loc[dp['Property'].isin(list(Similar2.keys())), :]\n",
    "dp.head()"
   ]
  },
  {
   "cell_type": "code",
   "execution_count": 38,
   "metadata": {},
   "outputs": [
    {
     "data": {
      "text/plain": [
       "['Tinyint', 'Tinyint']"
      ]
     },
     "execution_count": 38,
     "metadata": {},
     "output_type": "execute_result"
    }
   ],
   "source": [
    "cons=[]\n",
    "constraint=list(dp['Datatype'])\n",
    "for i in range(len(constraint)):\n",
    "    temp=constraint[i]\n",
    "    temp=temp[:temp.find(\"(\")]\n",
    "    cons.append(temp)\n",
    "#constraint=constraint[constraint.find(\"(\"):]\n",
    "cons"
   ]
  },
  {
   "cell_type": "code",
   "execution_count": 39,
   "metadata": {},
   "outputs": [
    {
     "name": "stdout",
     "output_type": "stream",
     "text": [
      "Tinyint(2) = Tinyint(2)\n",
      "Tinyint(2) = Tinyint(1)\n",
      "Tinyint(1) = Tinyint(2)\n",
      "Tinyint(1) = Tinyint(1)\n"
     ]
    }
   ],
   "source": [
    "for i in range(len(cons)):\n",
    "    for j in range(len(cons)):\n",
    "        if cons[i]==cons[j]:\n",
    "            print(constraint[i],\"=\",constraint[j])\n",
    "        else :\n",
    "            print(constraint[i],\"!=\",constraint[j])\n",
    "            "
   ]
  },
  {
   "cell_type": "code",
   "execution_count": 49,
   "metadata": {},
   "outputs": [
    {
     "name": "stdout",
     "output_type": "stream",
     "text": [
      "Select SIMPUS1 . TBPASIEN . JenisKelamin from SIMPUS1 . TBPASIEN where SIMPUS1 . TBPASIEN . JenisKelamin = 2\n",
      "Select SIMPUS2 . PASIEN . jeniskelamin from SIMPUS2 . PASIEN where SIMPUS2 . PASIEN . jeniskelamin = 2\n"
     ]
    }
   ],
   "source": [
    "for ind in dp.index: \n",
    "     print(\"Select\",dp['Data_Source'][ind],\".\",dp['Table_Name'][ind],\".\",dp['Property'][ind],\"from\",dp['Data_Source'][ind],\".\",dp['Table_Name'][ind],\"where\",dp['Data_Source'][ind],\".\",dp['Table_Name'][ind],\".\",dp['Property'][ind],\"= 2\") "
   ]
  },
  {
   "cell_type": "code",
   "execution_count": null,
   "metadata": {},
   "outputs": [],
   "source": []
  },
  {
   "cell_type": "code",
   "execution_count": null,
   "metadata": {},
   "outputs": [],
   "source": []
  }
 ],
 "metadata": {
  "kernelspec": {
   "display_name": "Python 3",
   "language": "python",
   "name": "python3"
  },
  "language_info": {
   "codemirror_mode": {
    "name": "ipython",
    "version": 3
   },
   "file_extension": ".py",
   "mimetype": "text/x-python",
   "name": "python",
   "nbconvert_exporter": "python",
   "pygments_lexer": "ipython3",
   "version": "3.8.5"
  }
 },
 "nbformat": 4,
 "nbformat_minor": 4
}
